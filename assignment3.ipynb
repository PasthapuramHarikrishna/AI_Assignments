{
  "nbformat": 4,
  "nbformat_minor": 0,
  "metadata": {
    "colab": {
      "name": "assignment3",
      "version": "0.3.2",
      "provenance": []
    },
    "kernelspec": {
      "name": "python3",
      "display_name": "Python 3"
    }
  },
  "cells": [
    {
      "cell_type": "code",
      "metadata": {
        "id": "d0JE1cMLHT8k",
        "colab_type": "code",
        "colab": {
          "base_uri": "https://localhost:8080/",
          "height": 85
        },
        "outputId": "71e2b5f4-d826-4c51-8e71-e01b1b3dd7fd"
      },
      "source": [
        "#Question1:\n",
        "\n",
        "\n",
        "import numpy as np\n",
        "x=np.array([1,2,3,4])\n",
        "y=np.array([5.5,6.5,7.5,8.5])\n",
        "print(np.add(x,y))\n",
        "print(np.subtract(x,y))\n",
        "\n",
        "print(np.multiply(x,y))\n",
        "\n",
        "print(np.divide(x,y))"
      ],
      "execution_count": 2,
      "outputs": [
        {
          "output_type": "stream",
          "text": [
            "[ 6.5  8.5 10.5 12.5]\n",
            "[-4.5 -4.5 -4.5 -4.5]\n",
            "[ 5.5 13.  22.5 34. ]\n",
            "[0.18181818 0.30769231 0.4        0.47058824]\n"
          ],
          "name": "stdout"
        }
      ]
    },
    {
      "cell_type": "code",
      "metadata": {
        "id": "w22sR0fFHyHC",
        "colab_type": "code",
        "colab": {
          "base_uri": "https://localhost:8080/",
          "height": 204
        },
        "outputId": "7ffb3841-d7c6-43a9-e6ff-8b5b5d23d19e"
      },
      "source": [
        "#Question2:\n",
        "\n",
        "X = np.array([[1,2],[3,4]])\n",
        "print(np.sqrt(X))\n",
        "\n",
        "print(np.min(X,axis=1))\n",
        "\n",
        "print(np.max(X,axis=1))\n",
        "\n",
        "print(np.min(X,axis=0))\n",
        "\n",
        "print(np.max(X,axis=0))\n",
        "\n",
        "print(X.std())\n",
        "\n",
        "print(np.exp(X))\n",
        "\n",
        "print(X.mean())\n",
        "\n",
        "print(np.median(X))\n"
      ],
      "execution_count": 4,
      "outputs": [
        {
          "output_type": "stream",
          "text": [
            "[[1.         1.41421356]\n",
            " [1.73205081 2.        ]]\n",
            "[1 3]\n",
            "[2 4]\n",
            "[1 2]\n",
            "[3 4]\n",
            "1.118033988749895\n",
            "[[ 2.71828183  7.3890561 ]\n",
            " [20.08553692 54.59815003]]\n",
            "2.5\n",
            "2.5\n"
          ],
          "name": "stdout"
        }
      ]
    }
  ]
}