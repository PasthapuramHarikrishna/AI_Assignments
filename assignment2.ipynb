{
  "nbformat": 4,
  "nbformat_minor": 0,
  "metadata": {
    "colab": {
      "name": "assignment2",
      "version": "0.3.2",
      "provenance": []
    },
    "kernelspec": {
      "name": "python3",
      "display_name": "Python 3"
    }
  },
  "cells": [
    {
      "cell_type": "code",
      "metadata": {
        "id": "sEVWS10HGIzt",
        "colab_type": "code",
        "colab": {
          "base_uri": "https://localhost:8080/",
          "height": 34
        },
        "outputId": "e8c3de67-d7e1-4882-b640-616c577efa39"
      },
      "source": [
        "#question1:\n",
        "answer = [65]\n",
        "guess = [17,16,10]\n",
        "\n",
        "if guess>answer:\n",
        "    print(\"guess is too high\")\n",
        "else:\n",
        "    print(\"guess is too low\")\n"
      ],
      "execution_count": 1,
      "outputs": [
        {
          "output_type": "stream",
          "text": [
            "guess is too low\n"
          ],
          "name": "stdout"
        }
      ]
    },
    {
      "cell_type": "code",
      "metadata": {
        "id": "SBa-gEz4GXyD",
        "colab_type": "code",
        "colab": {
          "base_uri": "https://localhost:8080/",
          "height": 102
        },
        "outputId": "6775004c-057c-4353-b8ef-3adbc3751fda"
      },
      "source": [
        "#question2:\n",
        "\n",
        "for num in range (1,30):\n",
        "    if num%5==0:\n",
        "        print(num)"
      ],
      "execution_count": 2,
      "outputs": [
        {
          "output_type": "stream",
          "text": [
            "5\n",
            "10\n",
            "15\n",
            "20\n",
            "25\n"
          ],
          "name": "stdout"
        }
      ]
    },
    {
      "cell_type": "code",
      "metadata": {
        "id": "MWcqjNBFGnpR",
        "colab_type": "code",
        "colab": {
          "base_uri": "https://localhost:8080/",
          "height": 34
        },
        "outputId": "c75e07f5-bd5d-498e-d971-1756207082ac"
      },
      "source": [
        "#Question3:  \n",
        "\n",
        "limit = 100\n",
        "num = 0 \n",
        "while (num +1)**2 < limit:\n",
        "    num += 1\n",
        "nearest_square = (num)**2\n",
        "print(nearest_square)"
      ],
      "execution_count": 3,
      "outputs": [
        {
          "output_type": "stream",
          "text": [
            "81\n"
          ],
          "name": "stdout"
        }
      ]
    }
  ]
}