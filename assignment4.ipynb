{
  "nbformat": 4,
  "nbformat_minor": 0,
  "metadata": {
    "colab": {
      "name": "assignment4",
      "version": "0.3.2",
      "provenance": [],
      "collapsed_sections": []
    },
    "kernelspec": {
      "name": "python3",
      "display_name": "Python 3"
    }
  },
  "cells": [
    {
      "cell_type": "code",
      "metadata": {
        "id": "HWG1alcBILI4",
        "colab_type": "code",
        "colab": {
          "base_uri": "https://localhost:8080/",
          "height": 187
        },
        "outputId": "b93d4311-e7d9-476c-ca0d-e7f43a541d4f"
      },
      "source": [
        "import pandas as pd\n",
        "import numpy as np\n",
        "salaries=[{'year':1990,'name':'alice','department':'HR','age':25,'salary':50000},{'year':1990,'name':'bob','department':'RD','age':30,'salary':48000},{'year':1990,'name':'charlie','department':'Admin','age':45,'salary':55000},{'year':1991,'name':'alice','department':'HR','age':26,'salary':52000},{'year':1991,'name':'bob','department':'RD','age':31,'salary':50000},{'year':1991,'name':'charlie','department':'Admin','age':46,'salary':60000},{'year':1992,'name':'alice','department':'Admin','age':27,'salary':60000},{'year':1992,'name':'bob','department':'RD','age':32,'salary':52000},{'year':1992,'name':'charlie','department':'Admin','age':28,'salary':62000}]\n",
        "money_spent=pd.DataFrame(salaries,index=[0,1,2,3,4,5,6,7,8])\n",
        "money_spent\n",
        "\n",
        "money_spent.groupby(['year'])['salary'].sum()\n",
        "\n",
        "money_spent.groupby(['name'])['salary'].sum()\n",
        "\n",
        "money_spent.groupby(['year','department'])['salary'].sum()"
      ],
      "execution_count": 4,
      "outputs": [
        {
          "output_type": "execute_result",
          "data": {
            "text/plain": [
              "year  department\n",
              "1990  Admin          55000\n",
              "      HR             50000\n",
              "      RD             48000\n",
              "1991  Admin          60000\n",
              "      HR             52000\n",
              "      RD             50000\n",
              "1992  Admin         122000\n",
              "      RD             52000\n",
              "Name: salary, dtype: int64"
            ]
          },
          "metadata": {
            "tags": []
          },
          "execution_count": 4
        }
      ]
    }
  ]
}