{
  "nbformat": 4,
  "nbformat_minor": 0,
  "metadata": {
    "colab": {
      "name": "assignment1",
      "version": "0.3.2",
      "provenance": []
    },
    "kernelspec": {
      "name": "python3",
      "display_name": "Python 3"
    }
  },
  "cells": [
    {
      "cell_type": "code",
      "metadata": {
        "id": "yohGPj0nT9jb",
        "colab_type": "code",
        "colab": {
          "base_uri": "https://localhost:8080/",
          "height": 102
        },
        "outputId": "d5b14af8-aa86-4b08-895b-c90044829ed7"
      },
      "source": [
        "import pandas as pd\n",
        "a=[{'keys':'shangai', 'values':17.8},{'keys':'istanbul', 'values':13.3},{'keys':'karachi','values':13.0},{'keys':'mumbai', 'values':12.5}]\n",
        "population=pd.DataFrame(a)\n",
        "\n",
        "print(population)"
      ],
      "execution_count": 2,
      "outputs": [
        {
          "output_type": "stream",
          "text": [
            "       keys  values\n",
            "0   shangai    17.8\n",
            "1  istanbul    13.3\n",
            "2   karachi    13.0\n",
            "3    mumbai    12.5\n"
          ],
          "name": "stdout"
        }
      ]
    },
    {
      "cell_type": "code",
      "metadata": {
        "id": "8Ugeqt3TURTc",
        "colab_type": "code",
        "colab": {
          "base_uri": "https://localhost:8080/",
          "height": 68
        },
        "outputId": "ff22b612-3982-4be2-a72d-45fc52d244a0"
      },
      "source": [
        "#question2\n",
        "\n",
        "import pandas as pd\n",
        "animals = {'dogs': [20, 10, 15, 8, 32, 15], 'cats': [3,4,2,8,2,4], 'rabbits': [2, 3, 3], 'fish': [0.3, 0.5, 0.8, 0.3, 1]}\n",
        "print(animals['dogs'])\n",
        "\n",
        "\n",
        "print(animals['dogs'][3])\n",
        "\n",
        "\n",
        "print(animals['fish'])\n"
      ],
      "execution_count": 3,
      "outputs": [
        {
          "output_type": "stream",
          "text": [
            "[20, 10, 15, 8, 32, 15]\n",
            "8\n",
            "[0.3, 0.5, 0.8, 0.3, 1]\n"
          ],
          "name": "stdout"
        }
      ]
    },
    {
      "cell_type": "code",
      "metadata": {
        "id": "xkDOtOdqUdoN",
        "colab_type": "code",
        "colab": {
          "base_uri": "https://localhost:8080/",
          "height": 68
        },
        "outputId": "1ac1d807-73c9-42c4-9a42-6f652ff522e9"
      },
      "source": [
        "#question2\n",
        "\n",
        "import pandas as pd\n",
        "animals = {'dogs': [20, 10, 15, 8, 32, 15], 'cats': [3,4,2,8,2,4], 'rabbits': [2, 3, 3], 'fish': [0.3, 0.5, 0.8, 0.3, 1]}\n",
        "print(animals['dogs'])\n",
        "\n",
        "\n",
        "print(animals['dogs'][3])\n",
        "\n",
        "\n",
        "print(animals['fish'])\n"
      ],
      "execution_count": 4,
      "outputs": [
        {
          "output_type": "stream",
          "text": [
            "[20, 10, 15, 8, 32, 15]\n",
            "8\n",
            "[0.3, 0.5, 0.8, 0.3, 1]\n"
          ],
          "name": "stdout"
        }
      ]
    },
    {
      "cell_type": "code",
      "metadata": {
        "id": "_2Al5cKDUpiJ",
        "colab_type": "code",
        "colab": {
          "base_uri": "https://localhost:8080/",
          "height": 34
        },
        "outputId": "7953fd92-26cc-45ef-c3b6-5da4551dafe2"
      },
      "source": [
        "#question3\n",
        "\n",
        "a = [1, 2, 2, 3, 3, 3, 4, 4, 4, 4]\n",
        "b = set(a)\n",
        "print(len(a) - len(b))"
      ],
      "execution_count": 5,
      "outputs": [
        {
          "output_type": "stream",
          "text": [
            "6\n"
          ],
          "name": "stdout"
        }
      ]
    },
    {
      "cell_type": "code",
      "metadata": {
        "id": "3wiDQK35Udt1",
        "colab_type": "code",
        "colab": {
          "base_uri": "https://localhost:8080/",
          "height": 51
        },
        "outputId": "772527bf-cb1e-4cb8-b814-f0723e17f52b"
      },
      "source": [
        "#question4\n",
        "\n",
        "tuple_a = 3, 4\n",
        "tuple_b = (3, 4)\n",
        "\n",
        "print(tuple_a == tuple_b)\n",
        "print(tuple_a[1])"
      ],
      "execution_count": 6,
      "outputs": [
        {
          "output_type": "stream",
          "text": [
            "True\n",
            "4\n"
          ],
          "name": "stdout"
        }
      ]
    },
    {
      "cell_type": "code",
      "metadata": {
        "id": "IR6vaq5bUyLm",
        "colab_type": "code",
        "colab": {
          "base_uri": "https://localhost:8080/",
          "height": 34
        },
        "outputId": "45bf3b5d-062c-4c29-e362-6ac126b2730f"
      },
      "source": [
        "\n",
        "#question5\n",
        "\n",
        "names = [\"Carol\", \"Albert\", \"Ben\", \"Donna\"]\n",
        "print(\" & \".join(sorted(names)))"
      ],
      "execution_count": 7,
      "outputs": [
        {
          "output_type": "stream",
          "text": [
            "Albert & Ben & Carol & Donna\n"
          ],
          "name": "stdout"
        }
      ]
    }
  ]
}